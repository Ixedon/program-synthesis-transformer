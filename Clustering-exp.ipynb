{
  "nbformat": 4,
  "nbformat_minor": 0,
  "metadata": {
    "colab": {
      "name": "Clsutering.ipynb",
      "provenance": []
    },
    "kernelspec": {
      "name": "python3",
      "display_name": "Python 3"
    },
    "accelerator": "GPU"
  },
  "cells": [
    {
      "cell_type": "code",
      "metadata": {
        "id": "t0sKNQPEQs59"
      },
      "source": [
        "!pip install sentence_transformers"
      ],
      "execution_count": null,
      "outputs": []
    },
    {
      "cell_type": "code",
      "metadata": {
        "id": "PRuR9vINPnBX"
      },
      "source": [
        "import json\n",
        "import numpy as np\n"
      ],
      "execution_count": 4,
      "outputs": []
    },
    {
      "cell_type": "code",
      "metadata": {
        "id": "rzdyMhQmP5nt"
      },
      "source": [
        "def get_opers(tab):\n",
        "\ta = tab[0]\n",
        "\tb = []\n",
        "\tc = []\n",
        "\tif isinstance(tab[1],list):\n",
        "\t\tb = get_opers(tab[1])\n",
        "\tif len(tab) > 2 and isinstance(tab[2],list):\n",
        "\t\tc = get_opers(tab[2])\n",
        "\n",
        "\tret = ([a]+b) + c\n",
        "\treturn ret\n"
      ],
      "execution_count": 2,
      "outputs": []
    },
    {
      "cell_type": "code",
      "metadata": {
        "id": "D9vICJWHP8ix"
      },
      "source": [
        "f = open('test50.json')\n",
        "lines = []\n",
        "opers = []\n",
        "for line in f.readlines():\n",
        "\tdata = json.loads(line)\n",
        "\ttext = \" \".join(data['text'])\n",
        "\tspl = text.split(', ')\n",
        "\tlines.append(spl)\n",
        "\n",
        "\tlst = data['short_tree']\n",
        "\ta = get_opers(lst)\n",
        "\topers.append(a)\n"
      ],
      "execution_count": 3,
      "outputs": []
    },
    {
      "cell_type": "code",
      "metadata": {
        "id": "trqS2yvUQDxm"
      },
      "source": [
        "d = []\n",
        "d2 = []\n",
        "\n",
        "sentences = []\n",
        "for i,line in enumerate(lines):\n",
        "\ttmp = []\n",
        "\tfor l in line:\n",
        "\t\tsentences.append(l)\n",
        "\t\td2.append(i)\n",
        "\t\ttmp.append(len(sentences)-1)\n",
        "\n",
        "\td.append(tmp)\n"
      ],
      "execution_count": 6,
      "outputs": []
    },
    {
      "cell_type": "code",
      "metadata": {
        "id": "bnZCX4NsQJJO"
      },
      "source": [
        "def cosine(u, v):\n",
        "    return np.dot(u, v) / (np.linalg.norm(u) * np.linalg.norm(v))"
      ],
      "execution_count": 7,
      "outputs": []
    },
    {
      "cell_type": "code",
      "metadata": {
        "colab": {
          "base_uri": "https://localhost:8080/"
        },
        "id": "zawpLS1dQMNV",
        "outputId": "aea57666-dd56-4e5a-f1e5-e1d1985e0a63"
      },
      "source": [
        "from sentence_transformers import SentenceTransformer\n",
        "sbert_model = SentenceTransformer('bert-base-nli-mean-tokens')\n",
        "\n",
        "sentence_embeddings = sbert_model.encode(sentences)\n",
        "print(sentence_embeddings.shape)"
      ],
      "execution_count": 10,
      "outputs": [
        {
          "output_type": "stream",
          "text": [
            "100%|██████████| 405M/405M [00:15<00:00, 26.2MB/s]\n"
          ],
          "name": "stderr"
        },
        {
          "output_type": "stream",
          "text": [
            "(108, 768)\n"
          ],
          "name": "stdout"
        }
      ]
    },
    {
      "cell_type": "markdown",
      "metadata": {
        "id": "GLKbzzaIRivK"
      },
      "source": [
        "Find most similar sentences to query"
      ]
    },
    {
      "cell_type": "code",
      "metadata": {
        "colab": {
          "base_uri": "https://localhost:8080/"
        },
        "id": "4XLD67axQTZA",
        "outputId": "2775323f-d6df-4ab9-d5eb-06066f981e88"
      },
      "source": [
        "query = \"Calculate the difference between a and b\"\n",
        "query_vec = sbert_model.encode([query])[0]\n",
        "\n",
        "sims=[]\n",
        "for sent in sentences:\n",
        "  sim = cosine(query_vec, sbert_model.encode([sent])[0])\n",
        "  sims.append((sent,sim))\n",
        "  # print(\"Sentence = \", sent, \"; similarity = \", sim)\n",
        "\n",
        "sims5 = sorted(sims, key=lambda tup: tup[1])[-10:]\n",
        "\n",
        "for s5 in sims5:\n",
        "\tprint(s5[0], \"prob\", s5[1])"
      ],
      "execution_count": 11,
      "outputs": [
        {
          "output_type": "stream",
          "text": [
            "given an array of numbers a and a number b  prob 0.7852883\n",
            "given an array of numbers a and a number b  prob 0.7852883\n",
            "compute elements in a each decremented by b prob 0.8043921\n",
            "subtract b from each value of a  prob 0.8089529\n",
            "decrement values in the given array by b  prob 0.82348055\n",
            "subtract b from values of a  prob 0.8261806\n",
            "your task is to compute values of a each decremented by b prob 0.84412575\n",
            "your task is to find the difference of values of a and b prob 0.8663\n",
            "decrement values in a by b  prob 0.90380675\n",
            "compute the difference of elements in a and b prob 0.9558516\n"
          ],
          "name": "stdout"
        }
      ]
    },
    {
      "cell_type": "markdown",
      "metadata": {
        "id": "Ocr5IrDcRoJT"
      },
      "source": [
        "Show clusters"
      ]
    },
    {
      "cell_type": "code",
      "metadata": {
        "id": "LmbQT7-mQWDq"
      },
      "source": [
        "from sklearn.cluster import KMeans\n",
        "from sklearn.decomposition import PCA\n",
        "\n",
        "N_C = 15\n",
        "\n",
        "kmeans_model = KMeans(n_clusters=N_C, init='k-means++', max_iter=100) \n",
        "X = kmeans_model.fit(sentence_embeddings)\n",
        "labels=kmeans_model.labels_.tolist()\n",
        "l = kmeans_model.fit_predict(sentence_embeddings)\n",
        "pca = PCA(n_components=2).fit(sentence_embeddings)\n",
        "datapoint = pca.transform(sentence_embeddings)"
      ],
      "execution_count": 12,
      "outputs": []
    },
    {
      "cell_type": "code",
      "metadata": {
        "id": "Tbb1iyNxQYRV"
      },
      "source": [
        "def ClusterIndicesNumpy(clustNum, labels_array): #numpy \n",
        "    return np.where(labels_array == clustNum)[0]"
      ],
      "execution_count": 13,
      "outputs": []
    },
    {
      "cell_type": "code",
      "metadata": {
        "colab": {
          "base_uri": "https://localhost:8080/"
        },
        "id": "NX-Oz4FjQaJi",
        "outputId": "cea40241-693c-471c-e6c3-c4d7eb2c0215"
      },
      "source": [
        "groups = []\n",
        "for i in range(N_C):\n",
        "\tatest = ClusterIndicesNumpy(i, kmeans_model.labels_)\n",
        "\tprint(\"\\n##############################  \\n\",\"cluster number: \", i)\n",
        "\tprint(atest)\n",
        "\n",
        "\ttmp = []\n",
        "\n",
        "\tfor a in atest:\n",
        "\t\ttmp.append(d2[a])\n",
        "\t\tprint(sentences[a])\n",
        "\tgroups.append(tmp)"
      ],
      "execution_count": 24,
      "outputs": [
        {
          "output_type": "stream",
          "text": [
            "\n",
            "##############################  \n",
            " cluster number:  0\n",
            "[30 36 40 42 44 46 54 59 64 68 70 72 74 76 78 89 93]\n",
            "given a string a \n",
            "consider a string \n",
            "consider a string a \n",
            "you are given a string a \n",
            "you are given a string a \n",
            "you are given a string \n",
            "consider a string \n",
            "given a string \n",
            "given a string a \n",
            "consider a string a \n",
            "given a string \n",
            "you are given a string \n",
            "given a string \n",
            "consider a string a \n",
            "given a string a \n",
            "consider a string a \n",
            "you are given a string \n",
            "\n",
            "##############################  \n",
            " cluster number:  1\n",
            "[  3   5  12  20  23  26  28  56  82  85  91  95  97  99 101 104]\n",
            "you are given an array of numbers a and a number b \n",
            "consider an array of numbers a and a number b \n",
            "you are given an array of numbers a and a number b \n",
            "you are given an array of numbers and a number b \n",
            "you are given an array of numbers a and a number b \n",
            "you are given an array of numbers and a number b \n",
            "you are given an array of numbers a and a number b \n",
            "given an array of numbers a and a number b \n",
            "given an array of numbers a and a number b \n",
            "consider arrays of numbers a and b \n",
            "given arrays of numbers a and b \n",
            "consider arrays of numbers a and b \n",
            "given an array of numbers a and a number b \n",
            "you are given arrays of numbers a and b \n",
            "consider an array of numbers a and a number b \n",
            "given arrays of numbers a and b \n",
            "\n",
            "##############################  \n",
            " cluster number:  2\n",
            "[17 33 51 53 67 81 88]\n",
            "what are the values in a that are odd\n",
            "compute elements of a that are odd\n",
            "what are the values of a that are odd\n",
            "compute odd values in the given array\n",
            "your task is to compute odd values of a\n",
            "your task is to find odd values of a\n",
            "find odd values in a\n",
            "\n",
            "##############################  \n",
            " cluster number:  3\n",
            "[  0   8  16  18  32  50  52  66  80 106]\n",
            "consider an array of numbers and a number \n",
            "consider an array of numbers \n",
            "consider an array of numbers a \n",
            "consider an array of numbers and a number \n",
            "consider an array of numbers a \n",
            "consider an array of numbers a \n",
            "given an array of numbers \n",
            "consider an array of numbers a \n",
            "consider an array of numbers a \n",
            "given an array of numbers a \n",
            "\n",
            "##############################  \n",
            " cluster number:  4\n",
            "[10 14 34 38 48 61 87]\n",
            "you are given an array of numbers \n",
            "given an array of numbers a and a number \n",
            "you are given an array of numbers a \n",
            "you are given an array of numbers \n",
            "you are given an array of numbers \n",
            "given an array of numbers a and a number \n",
            "you are given an array of numbers a \n",
            "\n",
            "##############################  \n",
            " cluster number:  5\n",
            "[31 41 43 45 65 77 79]\n",
            "what is the length of a\n",
            "what is the length of a\n",
            "compute the length of a\n",
            "find the length of a\n",
            "find the length of a\n",
            "find the length of a\n",
            "your task is to find the length of a\n",
            "\n",
            "##############################  \n",
            " cluster number:  6\n",
            "[  6  57  62  83 102]\n",
            "subtract b from elements in a \n",
            "subtract b from values of a \n",
            "subtract the given number from each value of a \n",
            "subtract b from each value of a \n",
            "subtract b from each element in a \n",
            "\n",
            "##############################  \n",
            " cluster number:  7\n",
            "[  9  11  35  39  49 107]\n",
            "find elements in the given array not divisible by two\n",
            "find not divisible by two values in the given array\n",
            "find elements in a not divisible by two\n",
            "your task is to compute not divisible by two elements of the given array\n",
            "what are the not divisible by two elements in the given array\n",
            "what are the not divisible by two values of a\n",
            "\n",
            "##############################  \n",
            " cluster number:  8\n",
            "[47 60 69 71 90 94]\n",
            "what is the number of characters in the given string\n",
            "find number of letters in the given string\n",
            "what is the number of letters in a\n",
            "your task is to compute number of letters in the given string\n",
            "your task is to compute number of characters in a\n",
            "what is the number of letters in the given string\n",
            "\n",
            "##############################  \n",
            " cluster number:  9\n",
            "[ 7 22 25 63 84]\n",
            "your task is to find a\n",
            "find the given array\n",
            "find a\n",
            "your task is to find a\n",
            "find a\n",
            "\n",
            "##############################  \n",
            " cluster number:  10\n",
            "[ 86  92  96 100 105]\n",
            "find number of elements in a that are greater than elements on the same position in b\n",
            "your task is to find how many elements in a are larger than elements on the same indices in b\n",
            "your task is to find number of indexes c such that c - th element in a is greater than c - th element in b\n",
            "your task is to find number of values in a that are greater than values on the same indexes in b\n",
            "compute how many positions are there on which the elements in a are bigger than the elements in b\n",
            "\n",
            "##############################  \n",
            " cluster number:  11\n",
            "[ 1  2 15 19]\n",
            "decrement each element in the given array by the given number \n",
            "what is the given array\n",
            "what are the values in a decremented by the given number\n",
            "find values in the given array decremented by the given number\n",
            "\n",
            "##############################  \n",
            " cluster number:  12\n",
            "[37 55 73 75]\n",
            "what is the length of the given string\n",
            "your task is to find the length of the given string\n",
            "what is the length of the given string\n",
            "what is the length of the given string\n",
            "\n",
            "##############################  \n",
            " cluster number:  13\n",
            "[ 4 13 21 24 27 29 98]\n",
            "compute the difference of elements in a and b\n",
            "compute elements in a each decremented by b\n",
            "decrement values in the given array by b \n",
            "decrement values in a by b \n",
            "compute elements of the given array decremented by b\n",
            "your task is to compute values of a each decremented by b\n",
            "your task is to find the difference of values of a and b\n",
            "\n",
            "##############################  \n",
            " cluster number:  14\n",
            "[ 58 103]\n",
            "what is a\n",
            "what is a\n"
          ],
          "name": "stdout"
        }
      ]
    },
    {
      "cell_type": "code",
      "metadata": {
        "colab": {
          "base_uri": "https://localhost:8080/",
          "height": 265
        },
        "id": "YziPnso1QfVI",
        "outputId": "8c556042-7fb3-4620-a0ff-735359dbd88b"
      },
      "source": [
        "import matplotlib.pyplot as plt\n",
        "%matplotlib inline\n",
        "label1 = ['lime', 'pink', 'cyan', 'gray', 'yellow', 'red', 'blue', 'purple', 'orange','green', 'magenta','brown','seagreen','coral','indigo']\n",
        "color = [label1[i] for i in labels]\n",
        "plt.scatter(datapoint[:, 0], datapoint[:, 1], c=color)\n",
        "centroids = kmeans_model.cluster_centers_\n",
        "centroidpoint = pca.transform(centroids)\n",
        "plt.scatter(centroidpoint[:, 0], centroidpoint[:, 1], marker='^', s=150, c='#000000')\n",
        "plt.show()"
      ],
      "execution_count": 16,
      "outputs": [
        {
          "output_type": "display_data",
          "data": {
            "image/png": "[encoded data removed]",
            "text/plain": [
              "<Figure size 432x288 with 1 Axes>"
            ]
          },
          "metadata": {
            "tags": [],
            "needs_background": "light"
          }
        }
      ]
    },
    {
      "cell_type": "code",
      "metadata": {
        "colab": {
          "base_uri": "https://localhost:8080/"
        },
        "id": "yA6OBWO4QmyS",
        "outputId": "7c2f1509-1745-4323-c6c3-e60ab6ff66c9"
      },
      "source": [
        "print(d)\n",
        "print(d2)"
      ],
      "execution_count": 17,
      "outputs": [
        {
          "output_type": "stream",
          "text": [
            "[[0, 1, 2], [3, 4], [5, 6, 7], [8, 9], [10, 11], [12, 13], [14, 15], [16, 17], [18, 19], [20, 21, 22], [23, 24, 25], [26, 27], [28, 29], [30, 31], [32, 33], [34, 35], [36, 37], [38, 39], [40, 41], [42, 43], [44, 45], [46, 47], [48, 49], [50, 51], [52, 53], [54, 55], [56, 57, 58], [59, 60], [61, 62, 63], [64, 65], [66, 67], [68, 69], [70, 71], [72, 73], [74, 75], [76, 77], [78, 79], [80, 81], [82, 83, 84], [85, 86], [87, 88], [89, 90], [91, 92], [93, 94], [95, 96], [97, 98], [99, 100], [101, 102, 103], [104, 105], [106, 107]]\n",
            "[0, 0, 0, 1, 1, 2, 2, 2, 3, 3, 4, 4, 5, 5, 6, 6, 7, 7, 8, 8, 9, 9, 9, 10, 10, 10, 11, 11, 12, 12, 13, 13, 14, 14, 15, 15, 16, 16, 17, 17, 18, 18, 19, 19, 20, 20, 21, 21, 22, 22, 23, 23, 24, 24, 25, 25, 26, 26, 26, 27, 27, 28, 28, 28, 29, 29, 30, 30, 31, 31, 32, 32, 33, 33, 34, 34, 35, 35, 36, 36, 37, 37, 38, 38, 38, 39, 39, 40, 40, 41, 41, 42, 42, 43, 43, 44, 44, 45, 45, 46, 46, 47, 47, 47, 48, 48, 49, 49]\n"
          ],
          "name": "stdout"
        }
      ]
    },
    {
      "cell_type": "code",
      "metadata": {
        "colab": {
          "base_uri": "https://localhost:8080/"
        },
        "id": "bUkV4z8FQoRe",
        "outputId": "b12aca5b-220f-46cf-ccbd-fc6320d313ec"
      },
      "source": [
        "print(groups)"
      ],
      "execution_count": 18,
      "outputs": [
        {
          "output_type": "stream",
          "text": [
            "[[13, 16, 18, 19, 20, 21, 25, 27, 29, 31, 32, 33, 34, 35, 36, 41, 43], [1, 2, 5, 9, 10, 11, 12, 26, 38, 39, 42, 44, 45, 46, 47, 48], [7, 14, 23, 24, 30, 37, 40], [0, 3, 7, 8, 14, 23, 24, 30, 37, 49], [4, 6, 15, 17, 22, 28, 40], [13, 18, 19, 20, 29, 35, 36], [2, 26, 28, 38, 47], [3, 4, 15, 17, 22, 49], [21, 27, 31, 32, 41, 43], [2, 9, 10, 28, 38], [39, 42, 44, 46, 48], [0, 0, 6, 8], [16, 25, 33, 34], [1, 5, 9, 10, 11, 12, 45], [26, 47]]\n"
          ],
          "name": "stdout"
        }
      ]
    },
    {
      "cell_type": "markdown",
      "metadata": {
        "id": "1jQDWeW7RsYt"
      },
      "source": [
        "Attempt at giving assigning labels to groups"
      ]
    },
    {
      "cell_type": "code",
      "metadata": {
        "colab": {
          "base_uri": "https://localhost:8080/"
        },
        "id": "oP__KS9oQqe4",
        "outputId": "fc01b51e-9f95-431e-b3ba-a0c063c5acb7"
      },
      "source": [
        "ald = list(range(0,len(opers)))\n",
        "\n",
        "for i in range(len(groups)):\n",
        "\tprint(i,\"#####################\")\n",
        "\n",
        "\talps = groups[i]\n",
        "\n",
        "\tdct = {}\n",
        "\tfor a in alps:\n",
        "\t\tfor b in opers[a]:\n",
        "\t\t\tif b in dct: dct[b] +=len(opers)\n",
        "\t\t\telse: dct[b] = len(opers)\n",
        "\n",
        "\tdf = list(set(ald) - set(alps))\n",
        "\n",
        "\tprint(dict(sorted(dct.items(), key=lambda item: item[1])))\n",
        "\n",
        "\tfor a in df:\n",
        "\t\tfor b in opers[a]:\n",
        "\t\t\tif b in dct: dct[b] -=1\n",
        "\n",
        "\tprint(dict(sorted(dct.items(), key=lambda item: item[1])))\n",
        "\n",
        "\tprint(sentences[i],\"\\n\")"
      ],
      "execution_count": 19,
      "outputs": [
        {
          "output_type": "stream",
          "text": [
            "0 #####################\n",
            "{'strlen': 850}\n",
            "{'strlen': 850}\n",
            "consider an array of numbers and a number  \n",
            "\n",
            "1 #####################\n",
            "{'reduce': 250, 'range': 250, 'min': 250, 'lambda1': 250, 'if': 250, '>': 250, 'len': 500, 'deref': 500, 'partial1': 550, 'map': 800}\n",
            "{'lambda1': 237, 'reduce': 250, 'range': 250, 'min': 250, 'if': 250, '>': 250, 'len': 500, 'deref': 500, 'partial1': 546, 'map': 796}\n",
            "decrement each element in the given array by the given number  \n",
            "\n",
            "2 #####################\n",
            "{'filter': 350, 'lambda1': 350, '==': 350, '%': 350}\n",
            "{'lambda1': 339, 'filter': 344, '==': 344, '%': 344}\n",
            "what is the given array \n",
            "\n",
            "3 #####################\n",
            "{'map': 100, 'partial1': 100, 'filter': 400, 'lambda1': 400, '==': 400, '%': 400}\n",
            "{'map': 82, 'partial1': 87, 'lambda1': 390, 'filter': 395, '==': 395, '%': 395}\n",
            "you are given an array of numbers a and a number b  \n",
            "\n",
            "4 #####################\n",
            "{'map': 100, 'partial1': 100, 'filter': 250, 'lambda1': 250, '==': 250, '%': 250}\n",
            "{'map': 82, 'partial1': 87, 'lambda1': 237, 'filter': 242, '==': 242, '%': 242}\n",
            "compute the difference of elements in a and b \n",
            "\n",
            "5 #####################\n",
            "{'strlen': 350}\n",
            "{'strlen': 340}\n",
            "consider an array of numbers a and a number b  \n",
            "\n",
            "6 #####################\n",
            "{'map': 250, 'partial1': 250}\n",
            "{'map': 235, 'partial1': 240}\n",
            "subtract b from elements in a  \n",
            "\n",
            "7 #####################\n",
            "{'filter': 300, 'lambda1': 300, '==': 300, '%': 300}\n",
            "{'lambda1': 288, 'filter': 293, '==': 293, '%': 293}\n",
            "your task is to find a \n",
            "\n",
            "8 #####################\n",
            "{'strlen': 300}\n",
            "{'strlen': 289}\n",
            "consider an array of numbers  \n",
            "\n",
            "9 #####################\n",
            "{'map': 250, 'partial1': 250}\n",
            "{'map': 235, 'partial1': 240}\n",
            "find elements in the given array not divisible by two \n",
            "\n",
            "10 #####################\n",
            "{'reduce': 250, 'map': 250, 'range': 250, 'min': 250, 'lambda1': 250, 'if': 250, '>': 250, 'len': 500, 'deref': 500}\n",
            "{'map': 235, 'lambda1': 237, 'reduce': 250, 'range': 250, 'min': 250, 'if': 250, '>': 250, 'len': 500, 'deref': 500}\n",
            "you are given an array of numbers  \n",
            "\n",
            "11 #####################\n",
            "{'map': 200, 'partial1': 200}\n",
            "{'map': 183, 'partial1': 188}\n",
            "find not divisible by two values in the given array \n",
            "\n",
            "12 #####################\n",
            "{'strlen': 200}\n",
            "{'strlen': 187}\n",
            "you are given an array of numbers a and a number b  \n",
            "\n",
            "13 #####################\n",
            "{'map': 350, 'partial1': 350}\n",
            "{'map': 337, 'partial1': 342}\n",
            "compute elements in a each decremented by b \n",
            "\n",
            "14 #####################\n",
            "{'map': 100, 'partial1': 100}\n",
            "{'map': 82, 'partial1': 87}\n",
            "given an array of numbers a and a number  \n",
            "\n"
          ],
          "name": "stdout"
        }
      ]
    }
  ]
}