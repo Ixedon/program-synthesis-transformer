{
 "cells": [
  {
   "cell_type": "markdown",
   "metadata": {
    "collapsed": true,
    "pycharm": {
     "name": "#%% md\n"
    }
   },
   "source": [
    "# Synteza programów z NL\n",
    "\n",
    "## Przygotowanie tensorflow"
   ]
  },
  {
   "cell_type": "code",
   "execution_count": 1,
   "outputs": [],
   "source": [
    "import tensorflow as tf\n",
    "physical_devices = tf.config.experimental.list_physical_devices('GPU')\n",
    "assert len(physical_devices) > 0, \"Not enough GPU hardware devices available\"\n",
    "tf.config.experimental.set_memory_growth(physical_devices[0], True)"
   ],
   "metadata": {
    "collapsed": false,
    "pycharm": {
     "name": "#%%\n"
    }
   }
  },
  {
   "cell_type": "markdown",
   "source": [
    "## Przygotowanie zbioru danych.\n",
    "\n",
    "Klasa Dataset odpowieada za wczytanie zbiorów danych z plików oraz\n",
    "przygotowanie ich do podania na wejście modelu, a także dekodowania wyjścia\n",
    "do postacji wykonywalnego programu i jego uruchomiania oraz testowania.\n",
    "Ostatni parametr konstruktora odpowiada za rodzaj reprezentacji programów:\n",
    "- True -  bez nawiasów,\n",
    "- False - z nawiasami."
   ],
   "metadata": {
    "collapsed": false,
    "pycharm": {
     "name": "#%% md\n"
    }
   }
  },
  {
   "cell_type": "code",
   "execution_count": 2,
   "outputs": [
    {
     "name": "stderr",
     "output_type": "stream",
     "text": [
      "Loading programs from jsonl file (filtered_data/metaset3.train.jsonl): 100%|██████████| 74138/74138 [00:04<00:00, 16786.46it/s]\n",
      "Preparing training dataset: 100%|██████████| 74138/74138 [00:00<00:00, 138514.26it/s]\n",
      "Loading programs from jsonl file (filtered_data/metaset3.dev.jsonl): 100%|██████████| 10226/10226 [00:00<00:00, 35204.80it/s]\n",
      "Preparing validation dataset: 100%|██████████| 10226/10226 [00:00<00:00, 144850.00it/s]\n",
      "Loading programs from jsonl file (filtered_data/metaset3.test.jsonl): 100%|██████████| 9405/9405 [00:00<00:00, 12156.04it/s]\n",
      "Preparing test dataset: 100%|██████████| 9405/9405 [00:00<00:00, 126060.73it/s]\n"
     ]
    },
    {
     "name": "stdout",
     "output_type": "stream",
     "text": [
      "Programs size: (74138, 219)\n",
      "Test count: 724359\n",
      "Programs size: (10226, 219)\n",
      "Test count: 100329\n",
      "Programs size: (9405, 219)\n",
      "Test count: 91758\n"
     ]
    }
   ],
   "source": [
    "from dataset import DataSet\n",
    "dataset = DataSet(10, 80_000, 10_000, True)"
   ],
   "metadata": {
    "collapsed": false,
    "pycharm": {
     "name": "#%%\n"
    }
   }
  },
  {
   "cell_type": "markdown",
   "source": [
    "## Wczytanie modelu\n",
    "\n",
    "Pierwszy parametr modelu to długość embeding'u, drugi odpowiada za liczbę jednostek\n",
    "w każdej warstwie modelu. Ostatnim parametrem konsturktora jest wcześniej przygotowany\n",
    "zbiór danych."
   ],
   "metadata": {
    "collapsed": false,
    "pycharm": {
     "name": "#%% md\n"
    }
   }
  },
  {
   "cell_type": "code",
   "source": [
    "from model import Seq2Seq\n",
    "model = Seq2Seq(128, 320, dataset)"
   ],
   "metadata": {
    "collapsed": false,
    "pycharm": {
     "name": "#%%\n"
    }
   },
   "execution_count": 3,
   "outputs": [
    {
     "name": "stdout",
     "output_type": "stream",
     "text": [
      "Input Vocab size: 276\n",
      "Output Vocab size: 73\n"
     ]
    }
   ]
  },
  {
   "cell_type": "markdown",
   "source": [
    "## Szczegóły modelu"
   ],
   "metadata": {
    "collapsed": false,
    "pycharm": {
     "name": "#%% md\n"
    }
   }
  },
  {
   "cell_type": "code",
   "execution_count": 4,
   "outputs": [
    {
     "name": "stdout",
     "output_type": "stream",
     "text": [
      "Model: \"Encoder\"\n",
      "__________________________________________________________________________________________________\n",
      "Layer (type)                    Output Shape         Param #     Connected to                     \n",
      "==================================================================================================\n",
      "input_1 (InputLayer)            [(None, 151)]        0                                            \n",
      "__________________________________________________________________________________________________\n",
      "embedding (Embedding)           (None, 151, 128)     35328       input_1[0][0]                    \n",
      "__________________________________________________________________________________________________\n",
      "input_2 (InputLayer)            [(None, 1)]          0                                            \n",
      "__________________________________________________________________________________________________\n",
      "gru (GRU)                       [(10, 151, 320), (10 432000      embedding[0][0]                  \n",
      "==================================================================================================\n",
      "Total params: 467,328\n",
      "Trainable params: 467,328\n",
      "Non-trainable params: 0\n",
      "__________________________________________________________________________________________________\n",
      "Encoder hidden: (10, 320)\n",
      "Encoder output: (10, 151, 320)\n",
      "\n",
      "\n",
      "Model: \"Decoder\"\n",
      "__________________________________________________________________________________________________\n",
      "Layer (type)                    Output Shape         Param #     Connected to                     \n",
      "==================================================================================================\n",
      "input_1 (InputLayer)            [(None, 151)]        0                                            \n",
      "__________________________________________________________________________________________________\n",
      "embedding (Embedding)           (None, 151, 128)     35328       input_1[0][0]                    \n",
      "__________________________________________________________________________________________________\n",
      "gru (GRU)                       [(10, 151, 320), (10 432000      embedding[0][0]                  \n",
      "__________________________________________________________________________________________________\n",
      "BahdanauAttention (BahdanauAtte ((10, 320), (10, 151 205761      gru[0][1]                        \n",
      "__________________________________________________________________________________________________\n",
      "input_2 (InputLayer)            [(None, 1)]          0                                            \n",
      "__________________________________________________________________________________________________\n",
      "tf_op_layer_ExpandDims (TensorF [(10, 1, 320)]       0           BahdanauAttention[0][0]          \n",
      "__________________________________________________________________________________________________\n",
      "embedding_1 (Embedding)         (None, 1, 128)       9344        input_2[0][0]                    \n",
      "__________________________________________________________________________________________________\n",
      "tf_op_layer_concat (TensorFlowO [(10, 1, 448)]       0           tf_op_layer_ExpandDims[0][0]     \n",
      "                                                                 embedding_1[0][0]                \n",
      "__________________________________________________________________________________________________\n",
      "gru_1 (GRU)                     [(10, 1, 320), (10,  739200      tf_op_layer_concat[0][0]         \n",
      "__________________________________________________________________________________________________\n",
      "tf_op_layer_Reshape (TensorFlow [(10, 320)]          0           gru_1[0][0]                      \n",
      "__________________________________________________________________________________________________\n",
      "dense (Dense)                   (10, 73)             23433       tf_op_layer_Reshape[0][0]        \n",
      "==================================================================================================\n",
      "Total params: 1,445,066\n",
      "Trainable params: 1,445,066\n",
      "Non-trainable params: 0\n",
      "__________________________________________________________________________________________________\n",
      "\n",
      "\n",
      "\n"
     ]
    }
   ],
   "source": [
    "model.write_summary()"
   ],
   "metadata": {
    "collapsed": false,
    "pycharm": {
     "name": "#%%\n"
    }
   }
  },
  {
   "cell_type": "markdown",
   "source": [
    "## Wczytanie wag modelu\n",
    "\n",
    "Przy pomocy metody load_last zostaną wczytane wagi z nalepszego momentu\n",
    "treningu."
   ],
   "metadata": {
    "collapsed": false,
    "pycharm": {
     "name": "#%% md\n"
    }
   }
  },
  {
   "cell_type": "code",
   "execution_count": 5,
   "outputs": [],
   "source": [
    "model.load_last(\"17-12-2020\")"
   ],
   "metadata": {
    "collapsed": false,
    "pycharm": {
     "name": "#%%\n"
    }
   }
  },
  {
   "cell_type": "markdown",
   "source": [
    "## Odpytanie modelu\n",
    "\n",
    "Poniżej przedstawiony jest uproszczony przebieg odpytania modelu od momentu\n",
    "wczytania danych do momentu testowania wygenerowanego programu na przypadku testowym.\n",
    "\n",
    "Przykładowe działające numery programów: 13, 14, 17, 84, 153...,\n",
    "aby przetestować inny przykład wystarczy zmienić wartość zmiennej **program_num**."
   ],
   "metadata": {
    "collapsed": false,
    "pycharm": {
     "name": "#%% md\n"
    }
   }
  },
  {
   "cell_type": "code",
   "execution_count": 6,
   "outputs": [
    {
     "name": "stderr",
     "output_type": "stream",
     "text": [
      "Loading programs from jsonl file (filtered_data/metaset3.test.jsonl): 100%|██████████| 9405/9405 [00:00<00:00, 34157.05it/s]\n"
     ]
    },
    {
     "name": "stdout",
     "output_type": "stream",
     "text": [
      "Opis programu: consider an array of numbers a , compute elements of a that are odd\n",
      "Argumenty programu: {'a': 'int[]'}\n",
      "Typ zwracany przez program: int[]\n",
      "Wygenerowany kod: filter a lambda1 == % arg1 2 1   (przed wstawieniem nawiasów)\n",
      "Oczekiwany kod: ['filter', 'a', ['lambda1', ['==', ['%', 'arg1', '2'], '1']]]\n",
      "Wejście przypadku tesotwego: {'a': [2, 9, 9, 17, 4, 6, 30]}\n",
      "Zwrócone wyjście: [9, 9, 17]\n",
      "Oczekiwane wyjście: [9, 9, 17]\n"
     ]
    }
   ],
   "source": [
    "import os\n",
    "from DataLoader import load_programs_json, tokenize_program\n",
    "\n",
    "# Wczytanie danych z pliku\n",
    "programs = load_programs_json(os.path.join(\"filtered_data\", \"metaset3.test.jsonl\"))\n",
    "\n",
    "program_num = 14\n",
    "text = programs['text'][program_num]\n",
    "print(f\"Opis programu: {text}\")\n",
    "print(f\"Argumenty programu: {programs['args'][program_num]}\")\n",
    "print(f\"Typ zwracany przez program: {programs['return_type'][program_num]}\")\n",
    "\n",
    "# Odpytanie modelu\n",
    "code, encoded_program = model.evaluate_sentence(text)\n",
    "# Tokenizacja argumentów programu\n",
    "_, program_args = tokenize_program(programs['short_tree'][program_num], programs['args'][program_num])\n",
    "program, args = dataset.decode_program(tf.convert_to_tensor(encoded_program), tf.convert_to_tensor(program_args))\n",
    "print(f\"Wygenerowany kod: {code.replace('<end>', '')}  (przed wstawieniem nawiasów)\")\n",
    "print(f\"Oczekiwany kod: {programs['short_tree'][program_num]}\")\n",
    "print(f\"Wejście przypadku tesotwego: {programs['tests'][program_num][0]['input']}\")\n",
    "test_input = programs['tests'][program_num][0][\"input\"]\n",
    "\n",
    "# \"Skompilowanie\" wygenerowanego programu do funkcji\n",
    "func = dataset.compile_func(program, args, programs['return_type'][program_num])\n",
    "\n",
    "# Przygotowanie wejście programu\n",
    "test_args = [test_input[a] for a in test_input.keys()]\n",
    "output = func(*test_args)\n",
    "print(f\"Zwrócone wyjście: {output}\")\n",
    "print(f\"Oczekiwane wyjście: {programs['tests'][program_num][0]['output']}\")"
   ],
   "metadata": {
    "collapsed": false,
    "pycharm": {
     "name": "#%%\n"
    }
   }
  }
 ],
 "metadata": {
  "kernelspec": {
   "display_name": "Python 3",
   "language": "python",
   "name": "python3"
  },
  "language_info": {
   "codemirror_mode": {
    "name": "ipython",
    "version": 2
   },
   "file_extension": ".py",
   "mimetype": "text/x-python",
   "name": "python",
   "nbconvert_exporter": "python",
   "pygments_lexer": "ipython2",
   "version": "2.7.6"
  }
 },
 "nbformat": 4,
 "nbformat_minor": 0
}